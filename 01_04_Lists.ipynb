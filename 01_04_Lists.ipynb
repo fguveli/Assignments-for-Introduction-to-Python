{
 "cells": [
  {
   "cell_type": "markdown",
   "metadata": {},
   "source": [
    "# Assignments for \"Lists\" "
   ]
  },
  {
   "cell_type": "markdown",
   "metadata": {},
   "source": [
    "1. Write a code to compute the sum of the two lowest numbers and the two highest numbers in the following list.\n",
    "\n",
    "        my_list = [34, 56, 76, 45, 2, 12, 67, 98, 37, 54, 66]"
   ]
  },
  {
   "cell_type": "code",
   "execution_count": 7,
   "metadata": {},
   "outputs": [
    {
     "name": "stdout",
     "output_type": "stream",
     "text": [
      "14 174\n"
     ]
    }
   ],
   "source": [
    "my_list = [34, 56, 76, 45, 2, 12, 67, 98, 37, 54, 66]\n",
    "my_list.sort()\n",
    "lowest2 = sum(my_list[0:2])\n",
    "highest2 = sum(my_list[len(my_list)-2:len(my_list)])\n",
    "print (lowest2, highest2)"
   ]
  },
  {
   "cell_type": "markdown",
   "metadata": {},
   "source": [
    "2. The following two lists contain student names and scores. Write a code that gets the name from the user and prints the score of that student.\n",
    "\n",
    "        names = [\"David\", \"Michael\", \"John\", \"James\", \"Greg\", \"Mark\", \"William\", \"Richard\", \"Thomas\", \"Steven\", \n",
    "                 \"Mary\", \"Susan\", \"Maria\", \"Karen\", \"Lisa\", \"Linda\", \"Donna\", \"Patricia\", \"Debra\", \"Eric\"]\n",
    "\n",
    "        scores = [99, 87, 78, 86, 68, 94, 76, 97, 56, 98, 76, 87, 79, 90, 73, 93, 82, 69, 97, 98]"
   ]
  },
  {
   "cell_type": "code",
   "execution_count": 8,
   "metadata": {},
   "outputs": [
    {
     "name": "stdin",
     "output_type": "stream",
     "text": [
      "What's your name David\n"
     ]
    },
    {
     "name": "stdout",
     "output_type": "stream",
     "text": [
      "99\n"
     ]
    }
   ],
   "source": [
    "names = [\"David\", \"Michael\", \"John\", \"James\", \"Greg\", \"Mark\", \"William\", \"Richard\", \"Thomas\", \"Steven\",\"Mary\", \"Susan\", \"Maria\", \"Karen\", \"Lisa\", \"Linda\", \"Donna\", \"Patricia\", \"Debra\", \"Eric\"]\n",
    "scores = [99, 87, 78, 86, 68, 94, 76, 97, 56, 98, 76, 87, 79, 90, 73, 93, 82, 69, 97, 98]\n",
    "userName = str(input(\"What's your name\"))\n",
    "scoreNo = names.index(userName)\n",
    "output = scores[scoreNo]\n",
    "print(output)"
   ]
  },
  {
   "cell_type": "markdown",
   "metadata": {},
   "source": [
    "3. By using the two lists above, what is the maximum score and how many students got that score?"
   ]
  },
  {
   "cell_type": "code",
   "execution_count": 16,
   "metadata": {},
   "outputs": [
    {
     "name": "stdout",
     "output_type": "stream",
     "text": [
      "99\n",
      "1\n"
     ]
    }
   ],
   "source": [
    "ranking = scores.copy()\n",
    "ranking.sort(reverse=True)\n",
    "print(ranking[0])\n",
    "print(ranking.count(ranking[0]))\n"
   ]
  },
  {
   "cell_type": "markdown",
   "metadata": {},
   "source": [
    "4. We can confuse about how many days a month is. Create a list to handle it. You will have month names and day counts in your list together as a nested list."
   ]
  },
  {
   "cell_type": "code",
   "execution_count": 7,
   "metadata": {},
   "outputs": [
    {
     "name": "stdout",
     "output_type": "stream",
     "text": [
      "[['December', 31], ['January', 31], ['February', 28], ['March', 31], ['April', 30], ['May', 31], ['June', 30], ['July', 31], ['August', 31], ['September', 30], ['October', 31], ['November', 30]]\n"
     ]
    }
   ],
   "source": [
    "months = [[\"December\", 31], [\"January\", 31], [\"February\", 28], [\"March\", 31], [\"April\", 30], [\"May\", 31], [\"June\", 30], [\"July\", 31], [\"August\", 31], [\"September\", 30], [\"October\", 31], [\"November\", 30]]\n",
    "print(months)"
   ]
  },
  {
   "cell_type": "markdown",
   "metadata": {},
   "source": [
    "5. Now create lists of months for each season. Get month names and day counts from the list that you create before with slicing. Name the lists with seasons."
   ]
  },
  {
   "cell_type": "code",
   "execution_count": 8,
   "metadata": {},
   "outputs": [
    {
     "name": "stdout",
     "output_type": "stream",
     "text": [
      "[[['December', 31], ['January', 31], ['February', 28]], [['March', 31], ['April', 30], ['May', 31]], [['June', 30], ['July', 31], ['August', 31]], [['September', 30], ['October', 31], ['November', 30]]]\n"
     ]
    }
   ],
   "source": [
    "seasons = [months[0:3], months[3:6], months[6:9], months[9:12]]\n",
    "print(seasons)"
   ]
  },
  {
   "cell_type": "markdown",
   "metadata": {},
   "source": [
    "6. Finally, from the list in the previous question, calculate how many days the summer season lasts."
   ]
  },
  {
   "cell_type": "code",
   "execution_count": 20,
   "metadata": {},
   "outputs": [
    {
     "name": "stdout",
     "output_type": "stream",
     "text": [
      "92\n"
     ]
    }
   ],
   "source": [
    "sSum = 0\n",
    "for i in range(3):\n",
    "    sSum += int(seasons[2][i][1])\n",
    "print(sSum)"
   ]
  }
 ],
 "metadata": {
  "kernelspec": {
   "display_name": "Python 3",
   "language": "python",
   "name": "python3"
  },
  "language_info": {
   "codemirror_mode": {
    "name": "ipython",
    "version": 3
   },
   "file_extension": ".py",
   "mimetype": "text/x-python",
   "name": "python",
   "nbconvert_exporter": "python",
   "pygments_lexer": "ipython3",
   "version": "3.8.2"
  }
 },
 "nbformat": 4,
 "nbformat_minor": 4
}
