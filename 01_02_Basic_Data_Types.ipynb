{
 "cells": [
  {
   "cell_type": "markdown",
   "metadata": {},
   "source": [
    "# Assignments for \"Basic Data Types\" "
   ]
  },
  {
   "cell_type": "markdown",
   "metadata": {},
   "source": [
    "1. Suppose you invested in Bitcoin at the end of 2017 when Bitcoin gained a lot of value. What would be your money at the end of a week if you had invested \\$1000 with an average daily increase of 12\\% ? You can solve the problem using Python."
   ]
  },
  {
   "cell_type": "code",
   "execution_count": null,
   "metadata": {},
   "outputs": [],
   "source": [
    "##### Help\n",
    "\n",
    "# Create a variable capital ($1000)\n",
    "\n",
    "# Create a variable for daily growth (12%)\n",
    "\n",
    "# Create a variable for period (7)\n",
    "\n",
    "# Calculate the final growth rate\n",
    "\n",
    "# Calculate result\n",
    "\n",
    "# Print result"
   ]
  },
  {
   "cell_type": "code",
   "execution_count": 24,
   "metadata": {},
   "outputs": [
    {
     "name": "stdout",
     "output_type": "stream",
     "text": [
      "2210.6814074060812\n"
     ]
    }
   ],
   "source": [
    "capital = 1000\n",
    "growthRate = 0.12\n",
    "period = 7\n",
    "weeklyGrowthRate = (1 + growthRate) ** period \n",
    "result = capital * weeklyGrowthRate\n",
    "earning = result - capital\n",
    "print(result)"
   ]
  },
  {
   "cell_type": "markdown",
   "metadata": {},
   "source": [
    "2. Print the text in quotes with Python. However, you must get the numbers from variables using `.format()` notation. <br> Because the text is long, you might consider writing in two lines:\n",
    "\n",
    "        `\"When we buy bitcoin with 1000 USD at the beginning of the week, we would earn 1210.68 USD at the end of the week, with an average gain of 12\\%.\"`"
   ]
  },
  {
   "cell_type": "code",
   "execution_count": 32,
   "metadata": {},
   "outputs": [
    {
     "name": "stdout",
     "output_type": "stream",
     "text": [
      "When we buy bitcoin with 1000.00 USD at the beginning of the week, we would earn 1210.6814074060812 USD at the end of the week, with an average gain of 12\\%.\n"
     ]
    }
   ],
   "source": [
    "text = \"When we buy bitcoin with {} USD at the beginning of the week, we would earn {} USD at the end of the week, with an average gain of {}\\%.\"\n",
    "\n",
    "print(text.format(capital, earning, int(growthRate * 100)))"
   ]
  },
  {
   "cell_type": "markdown",
   "metadata": {},
   "source": [
    "3. Get the temperature in Fahrenheit from user and write a code to convert it to Celcius. For conversion, you can use this formula: C = (5/9) * (F - 32)\n",
    "\n",
    "        Enter the temperature in Fahrenheit: \n",
    "        user --> 26\n",
    "        output --> Temperature (C) : -3.33"
   ]
  },
  {
   "cell_type": "code",
   "execution_count": 11,
   "metadata": {},
   "outputs": [
    {
     "name": "stdin",
     "output_type": "stream",
     "text": [
      " 26\n"
     ]
    },
    {
     "name": "stdout",
     "output_type": "stream",
     "text": [
      "-3.3333333333333335\n"
     ]
    }
   ],
   "source": [
    "temperature = input()\n",
    "celcius = (5/9) * (int(temperature) - 32)\n",
    "print(celcius)"
   ]
  },
  {
   "cell_type": "markdown",
   "metadata": {},
   "source": [
    "4. Get a three digit number the from user and calculate the sum of the digits in the integer.\n",
    "\n",
    "        user --> 365\n",
    "        output --> \"The sum of digits in the number is 14"
   ]
  },
  {
   "cell_type": "code",
   "execution_count": 15,
   "metadata": {},
   "outputs": [
    {
     "name": "stdin",
     "output_type": "stream",
     "text": [
      " 735\n"
     ]
    },
    {
     "name": "stdout",
     "output_type": "stream",
     "text": [
      "15\n"
     ]
    }
   ],
   "source": [
    "userNum = int(input())\n",
    "output = int(userNum / 100) + int((userNum % 100) / 10) + (userNum % 10)\n",
    "print(output)"
   ]
  },
  {
   "cell_type": "markdown",
   "metadata": {},
   "source": [
    "5. Write some code to calculate the hypotenuse of a right angled triangle. Get the side lengths from the user.\n",
    "\n",
    "        user --> first side lenth : 6\n",
    "        user --> first side lenth : 8\n",
    "        output --> \"The length of the hypotenuse is 10"
   ]
  },
  {
   "cell_type": "code",
   "execution_count": 21,
   "metadata": {},
   "outputs": [
    {
     "name": "stdin",
     "output_type": "stream",
     "text": [
      "first side length: 3\n",
      "second side length: 4\n"
     ]
    },
    {
     "name": "stdout",
     "output_type": "stream",
     "text": [
      "5.0\n"
     ]
    }
   ],
   "source": [
    "fSide = int(input(\"first side length:\"))\n",
    "sSide = int(input(\"second side length:\"))\n",
    "output = (fSide ** 2 + sSide ** 2) ** 0.5\n",
    "print(\"The length of the hypotenuse is\", output)"
   ]
  }
 ],
 "metadata": {
  "kernelspec": {
   "display_name": "Python 3",
   "language": "python",
   "name": "python3"
  },
  "language_info": {
   "codemirror_mode": {
    "name": "ipython",
    "version": 3
   },
   "file_extension": ".py",
   "mimetype": "text/x-python",
   "name": "python",
   "nbconvert_exporter": "python",
   "pygments_lexer": "ipython3",
   "version": "3.8.2"
  }
 },
 "nbformat": 4,
 "nbformat_minor": 4
}
